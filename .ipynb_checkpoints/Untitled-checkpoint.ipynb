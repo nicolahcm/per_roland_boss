{
 "cells": [
  {
   "cell_type": "code",
   "execution_count": 1,
   "metadata": {},
   "outputs": [],
   "source": [
    "import pandas as pd\n",
    "import matplotlib.pyplot as plt"
   ]
  },
  {
   "cell_type": "code",
   "execution_count": 4,
   "metadata": {},
   "outputs": [],
   "source": [
    "file_path = \"TabelleFinale.ods\""
   ]
  },
  {
   "cell_type": "code",
   "execution_count": 14,
   "metadata": {},
   "outputs": [
    {
     "data": {
      "text/html": [
       "<div>\n",
       "<style scoped>\n",
       "    .dataframe tbody tr th:only-of-type {\n",
       "        vertical-align: middle;\n",
       "    }\n",
       "\n",
       "    .dataframe tbody tr th {\n",
       "        vertical-align: top;\n",
       "    }\n",
       "\n",
       "    .dataframe thead th {\n",
       "        text-align: right;\n",
       "    }\n",
       "</style>\n",
       "<table border=\"1\" class=\"dataframe\">\n",
       "  <thead>\n",
       "    <tr style=\"text-align: right;\">\n",
       "      <th></th>\n",
       "      <th></th>\n",
       "      <th></th>\n",
       "      <th>Unnamed: 3</th>\n",
       "      <th>Unnamed: 4</th>\n",
       "      <th>Unnamed: 5</th>\n",
       "    </tr>\n",
       "  </thead>\n",
       "  <tbody>\n",
       "    <tr>\n",
       "      <th rowspan=\"11\" valign=\"top\">NaN</th>\n",
       "      <th rowspan=\"11\" valign=\"top\">NaN</th>\n",
       "      <th>NaN</th>\n",
       "      <td>NaN</td>\n",
       "      <td>NaN</td>\n",
       "      <td>NaN</td>\n",
       "    </tr>\n",
       "    <tr>\n",
       "      <th>NaN</th>\n",
       "      <td>NaN</td>\n",
       "      <td>NaN</td>\n",
       "      <td>NaN</td>\n",
       "    </tr>\n",
       "    <tr>\n",
       "      <th>Questionario</th>\n",
       "      <td>NaN</td>\n",
       "      <td>N° pazienti (n=184); n %</td>\n",
       "      <td>Media (DS)</td>\n",
       "    </tr>\n",
       "    <tr>\n",
       "      <th>CD-RISC</th>\n",
       "      <td>&lt;35 score</td>\n",
       "      <td>5 (2.7)</td>\n",
       "      <td>65.8 (14.5)</td>\n",
       "    </tr>\n",
       "    <tr>\n",
       "      <th>CD-RISC</th>\n",
       "      <td>&gt;35 score</td>\n",
       "      <td>179 (97.3)</td>\n",
       "      <td>NaN</td>\n",
       "    </tr>\n",
       "    <tr>\n",
       "      <th>QoL</th>\n",
       "      <td>NaN</td>\n",
       "      <td>NaN</td>\n",
       "      <td>80.3 (12.9)</td>\n",
       "    </tr>\n",
       "    <tr>\n",
       "      <th>STAY I</th>\n",
       "      <td>NaN</td>\n",
       "      <td>NaN</td>\n",
       "      <td>41.6 (12.8)</td>\n",
       "    </tr>\n",
       "    <tr>\n",
       "      <th>STAY II</th>\n",
       "      <td>NaN</td>\n",
       "      <td>NaN</td>\n",
       "      <td>42.4 (11.6)</td>\n",
       "    </tr>\n",
       "    <tr>\n",
       "      <th>BDI</th>\n",
       "      <td>NaN</td>\n",
       "      <td>NaN</td>\n",
       "      <td>9.9 (9.8)</td>\n",
       "    </tr>\n",
       "    <tr>\n",
       "      <th>BIAGI</th>\n",
       "      <td>Aderente</td>\n",
       "      <td>163 (88.6)</td>\n",
       "      <td>NaN</td>\n",
       "    </tr>\n",
       "    <tr>\n",
       "      <th>BIAGI</th>\n",
       "      <td>Non aderente</td>\n",
       "      <td>21 (11.4)</td>\n",
       "      <td>NaN</td>\n",
       "    </tr>\n",
       "  </tbody>\n",
       "</table>\n",
       "</div>"
      ],
      "text/plain": [
       "                        Unnamed: 3                Unnamed: 4   Unnamed: 5\n",
       "NaN NaN NaN                    NaN                       NaN          NaN\n",
       "        NaN                    NaN                       NaN          NaN\n",
       "        Questionario           NaN  N° pazienti (n=184); n %   Media (DS)\n",
       "        CD-RISC          <35 score                   5 (2.7)  65.8 (14.5)\n",
       "        CD-RISC          >35 score                179 (97.3)          NaN\n",
       "        QoL                    NaN                       NaN  80.3 (12.9)\n",
       "        STAY I                 NaN                       NaN  41.6 (12.8)\n",
       "        STAY II                NaN                       NaN  42.4 (11.6)\n",
       "        BDI                    NaN                       NaN    9.9 (9.8)\n",
       "        BIAGI             Aderente                163 (88.6)          NaN\n",
       "        BIAGI         Non aderente                 21 (11.4)          NaN"
      ]
     },
     "execution_count": 14,
     "metadata": {},
     "output_type": "execute_result"
    }
   ],
   "source": [
    "tavola2 = pd.read_excel(file_path, engine=\"odf\", sheet_name=1, index_col=[0,1,2])\n",
    "tavola2"
   ]
  },
  {
   "cell_type": "markdown",
   "metadata": {},
   "source": [
    "# Per la tavola numero 2."
   ]
  },
  {
   "cell_type": "markdown",
   "metadata": {},
   "source": [
    "### commento 1."
   ]
  },
  {
   "cell_type": "code",
   "execution_count": 18,
   "metadata": {},
   "outputs": [
    {
     "data": {
      "text/plain": [
       "-9.700000000000001"
      ]
     },
     "execution_count": 18,
     "metadata": {},
     "output_type": "execute_result"
    }
   ],
   "source": [
    "9.9-2*9.8"
   ]
  },
  {
   "cell_type": "markdown",
   "metadata": {},
   "source": [
    "Notare che il dato per CD-RISC e QoL sono i più stabili. STAY 1 e STAY 2 sono dati più variabili e il BDI è\n",
    "il dato con varianza maggiore. La varianza è il quadrato della deviazione standard. \n",
    "A motivazione di questo è sufficiente guardare al rapporto tra la deviazione standard e la media. \n",
    "Ad esempio, per il CD-RISC abbiamo che DS/Media = 14.5/65.8 = 0.22. \n",
    "Mentre per il BDI abbiamo DS/Media = 9.8/9.9 = 0.99. Siccome questo rapporto di 0.99 è maggiore di 0.22, \n",
    "è chiaro che l'osservazione del CD-RISC è più variabile e più incline ad osservazioni molto distanti fra di loro.\n",
    "\n",
    "\n",
    "I dati son più stabili quando la deviazione standard è più piccola in proporzione alla media. \n",
    "In particolare, ricordiamo che per un intervallo di confidenza del 95%, nel caso di ipotesi nulla, l'intervallo\n",
    "in considerazione è di più o meno 2 volte la deviazione standard. Per il BDI, avere l'intervallo di confidenza\n",
    "del 95% è da 9.9-2*9.8 , che è circa -10, fino a 9.9+2*9.8, che è circa 30. L'intervallo [-10,30] è molto largo.\n",
    "A differenza dell'indice CD-RISC ad esempio. \n",
    "\n",
    "Per caratterizzare certi fenomeni legati a questi 5 indici, è meglio caratterizzante considerare i dati con \n",
    "minor varianza in proporzione alla media, perché son dati che hanno più resilienza (robustness), ovvero,\n",
    "hanno un'osservazione più frequente in un intervallo di confidenza più ristretto"
   ]
  },
  {
   "cell_type": "markdown",
   "metadata": {},
   "source": [
    "# Tavola numero 3 CD-RISC"
   ]
  },
  {
   "cell_type": "markdown",
   "metadata": {},
   "source": [
    "(Boss in tutto questo non ho capito la media di punteggi per misurare cosa? Il punteggio è da 0 a 100 per \n",
    "dire se ha resilienza o meno?)\n",
    "\n",
    "Notare che il p-value per l'età è dello \"0,01\". Questo significa che i dati osservati hanno più importanza statistica, e che l'ipotesi nulla può essere rifiutata.\n",
    "\n",
    "\n",
    "Notare che per tutte le classificazioni, le varie medie non discostano tra di loro del più del 10% relativamente.\n",
    "Ad esempio nell'età del test, il valore minimo di media è dato da 60.1 per quelli <35 anni. Il valore massimo\n",
    "è 66.8 per quelli di età >55. La differenza relativa rispetto al valore massimo è minore del 10%.\n",
    "E cosi in tutte le altre classificazioni la differenza relativa rispetto al valore massimo in quella classificaz.\n",
    "è minore del 10%. Ad eccezione della risposta clinica al GFD, dove vediamo che il valore massimo è 77\n",
    "e quello minimo 66. C'è una variazione maggiore del 10%. Questo suggerisce che questa classificazione è un\n",
    "fattore determinante per (il punteggio di resilienza?). Se la risposta clinica al GFD è assente, è probabile\n",
    "che il punteggio sia abbastanza alto come nei dati, 77 +- 2*8.5 dà già un intervallo di confidenza del 95% \n",
    "nel caso di ipotesi nulla. In tal caso notiamo anche che il suo p-value è molto alto, 0.46, il che ci \n",
    "fa suggerire la validità di ipotesi nulla (se consideriamo la tipica soglia di significatività allo 0.05).\n",
    "\n",
    "Notare anche che la DS in caso di risposta clinica al GFD assente è 8.5, che è relativamente basso rispetto alla \n",
    "sua media di 77. Questo fa suggerire che il è affidabile prendere questo indice per fare misurazioni di questi punteggi (per la resilienza di vita?). \n",
    "\n",
    "Facendo affidamento a questo criterio utilizzato (differenza relativa nella classificazione del massimo nella classificazione stessa), il secondo dato che riveste più importanza sarebbe l'età, dove il minimo e il massimo discostano relativamente, rispetto al massimo di (66.8-60.1)/60.8. Il p-value qua è dello 0.01, che ci fa rifiutare l'ipotesi nulla. \n",
    "\n",
    "In conclusione, il GFD e l'età son fattori che dovrebbero essere considerati per la resilienza.\n"
   ]
  },
  {
   "cell_type": "markdown",
   "metadata": {},
   "source": [
    "# Tabella 4 QoL"
   ]
  },
  {
   "cell_type": "markdown",
   "metadata": {},
   "source": [
    "Notiamo che il p-value per la risposta al GFD è 0.00, il che ci fa assumere che la nostra ipotesi nulla può essere \n",
    "rifiutata. Allo stesso tempo, notiamo una relazione non diretta tra risposta e punteggio. Infatti, \n",
    "se la risposta è assente , il punteggio è di 81. La risposta è parziale e il punteggio si abbassa a 74.4\n",
    "e se la risposta è completa si rialza a 82.8. Questo è un comportamento strano ed è probabile che con più \n",
    "dati si possa ottenere un comportamento più regolare.\n",
    "\n",
    "In tutte le altre classificazioni, i punteggi si attestano sulle stesse fascie ed è difficile trarne\n",
    "una correlazione. tuttavia sembra esistere una correlazione al punteggio di QoL in base alla aderenza GFD,\n",
    "dove i non aderenti hanno un punteggio nettamente più basso (di 3 punti) rispetto agli aderenti.\n",
    "Anche la classificazione alla \"presentazione clinica al DIA\" può essere correlata, dove, \n",
    "la classica e non classica hanno un punteggio nettamente inferiore dell'asintomatica. Notare anche che in questa\n",
    "classificazione il p-value è molto alto, 0.64, il che ci fa assumere l'ipotesi nulla.\n",
    "\n",
    "\n",
    "\n"
   ]
  },
  {
   "cell_type": "markdown",
   "metadata": {},
   "source": [
    "# Tabella 5 STAY (stato d'ansia)"
   ]
  },
  {
   "cell_type": "markdown",
   "metadata": {},
   "source": [
    "E' da notare che chi non è divorziato o solo ha un punteggio più alto per gli attacchi di ansia. Hanno un punteggio di circa 10% più alto in entrambi i STAY. \n",
    "\n",
    "Anche le femmine sembrano essere più soggette a attacchi di ansia. Hanno punteggi più alti. \n",
    "\n",
    "Anche la fascia di età <35 anni sono quelli con punteggio più alto per l'ansia. Tuttavia, questa fascia di età\n",
    "include un grosso gruppo, adolescenti, bambini, e adulti. Se si suddividesse ulteriormente questa fascia\n",
    "ci sarebbero evidenze più grosse. Il cambiamento ormonale può influire tanto, per cui sarebbe suggerito\n",
    "di dividere ulteriormente questo gruppo. \n",
    "\n",
    "Anche per Presentazione clinica alla DIA e Aderenza GFD è chiara una evidente correlazione.\n",
    "Mentre non sembra esserci una evidente\" correlazione tra il punteggio e \"Educazione\" e \"Risposta clinica GFD\".\n",
    "\n",
    "Questa tabella è la più correlata con i vari dati analizzati.\n"
   ]
  },
  {
   "cell_type": "markdown",
   "metadata": {},
   "source": [
    "# Tabella 6 , depressione... Si commenta un po' come la tabella di prima. "
   ]
  },
  {
   "cell_type": "markdown",
   "metadata": {},
   "source": [
    "Stato di ansia e tabella di depressione sono tabelle altamente correlate, il che vuol dire, matematicamente,\n",
    "che si comportano circa uguale e possono essere viste come un'unica tabella. "
   ]
  },
  {
   "cell_type": "markdown",
   "metadata": {},
   "source": [
    "# Ultima Tabella"
   ]
  },
  {
   "cell_type": "markdown",
   "metadata": {},
   "source": [
    "Boss correggi la prima riga della tabella. Hai sbagliato, dovrebbe essere (-6.95  2.48) e non (-6.95  -2.48) come hai scritto.\n",
    "\n",
    "\n",
    "\n",
    "Dai grafici di correlazione, sembra che esista una relazione di correlazione lineare diretta tra \n",
    "Resilienza e QoL. La resilienza aumenta con l'aumentare del QoL. Questo è confermato dalla tabella, dove\n",
    "si legge che c'è un coefficiente lineare di regressione di 0.34 (coefficiente univariata), \n",
    "il che significa che la retta che fitta i punti (linea di regressione) può essere espressa come y = 0.34 + c\n",
    "per una costante c. \n",
    "Notare che anche l'intervallo di confidenza del coefficiente lineare di regressione è strettamente positivo (0.18   0.49). L'intervallo dai numeri 0.18 fino a 0.49. Il che ci dà ulteriore certezza sul fatto che ci sia una relazione diretta (cresce QoL, allora cresce Resilienza. ... Beh poi il tuo statista non ti ha specificato che \n",
    "intervalli di confidenza. Di solito si prende 95% quindi assumo che abbia preso 95%).\n",
    "\n",
    "Guardando i restanti 3 grafici, si nota che c'è una relazione inversa tra Resilienza e STAY1 (o stay2, o BDI).\n",
    "Questo è confermato dai coefficienti di regressione lineare che son negativi. Per stay1 è -0.58, stay2 -0.8\n",
    "e bdi -0.65. Non solo i coefficienti di regressione son negativi, anche i loro intervalli di confidenza sono negativi, il che ci dà una ulteriore conferma del fatto che siano inversamente correlati (cresce uno, diminuisce l'altro). \n",
    "\n",
    "Per questi indici menzionati, il p-value è molto basso 0 o 0.01, il che ci suggerisce che tali dati assumono importanza statistica e sono indicanti di un comportamento biased verso una determinata direzione. \n",
    "\n",
    "Notiamo anche che per gli altri indici, si hanno certi coefficienti di regressione, che hanno un intervallo di confidenza che cade sia nella parte dei numeri negativi, che positivi. Per cui per i rimanenti indici è difficile dire se esista davvero una correlazione. \n",
    "Oltre a questo fatto, il p-value è molto alto in tutti questi indici, sempre maggiore di 0.05.\n",
    "\n",
    "\n"
   ]
  },
  {
   "cell_type": "code",
   "execution_count": null,
   "metadata": {},
   "outputs": [],
   "source": []
  }
 ],
 "metadata": {
  "kernelspec": {
   "display_name": "Python 3",
   "language": "python",
   "name": "python3"
  },
  "language_info": {
   "codemirror_mode": {
    "name": "ipython",
    "version": 3
   },
   "file_extension": ".py",
   "mimetype": "text/x-python",
   "name": "python",
   "nbconvert_exporter": "python",
   "pygments_lexer": "ipython3",
   "version": "3.7.0"
  }
 },
 "nbformat": 4,
 "nbformat_minor": 4
}
